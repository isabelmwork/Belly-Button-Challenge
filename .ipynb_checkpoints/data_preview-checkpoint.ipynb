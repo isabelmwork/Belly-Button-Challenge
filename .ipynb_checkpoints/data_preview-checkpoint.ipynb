{
 "cells": [
  {
   "cell_type": "code",
   "execution_count": 1,
   "id": "d10bb9e4",
   "metadata": {},
   "outputs": [],
   "source": [
    "import json\n",
    "import pandas as pd  \n",
    "from pathlib import Path"
   ]
  },
  {
   "cell_type": "code",
   "execution_count": 2,
   "id": "56e51454",
   "metadata": {},
   "outputs": [],
   "source": [
    "data = json.load(open('/Users/isabelsmorrison/Personal/Data_Analytics_Bootcamp/Weekly_Assignments/Homework_14/Belly-Button-Challenge/samples.json', 'r'))\n",
    "                      \n",
    "df = pd.DataFrame(data)"
   ]
  },
  {
   "cell_type": "code",
   "execution_count": 3,
   "id": "b9b02fd2",
   "metadata": {},
   "outputs": [
    {
     "data": {
      "text/html": [
       "<div>\n",
       "<style scoped>\n",
       "    .dataframe tbody tr th:only-of-type {\n",
       "        vertical-align: middle;\n",
       "    }\n",
       "\n",
       "    .dataframe tbody tr th {\n",
       "        vertical-align: top;\n",
       "    }\n",
       "\n",
       "    .dataframe thead th {\n",
       "        text-align: right;\n",
       "    }\n",
       "</style>\n",
       "<table border=\"1\" class=\"dataframe\">\n",
       "  <thead>\n",
       "    <tr style=\"text-align: right;\">\n",
       "      <th></th>\n",
       "      <th>names</th>\n",
       "      <th>metadata</th>\n",
       "      <th>samples</th>\n",
       "    </tr>\n",
       "  </thead>\n",
       "  <tbody>\n",
       "    <tr>\n",
       "      <th>0</th>\n",
       "      <td>940</td>\n",
       "      <td>{'id': 940, 'ethnicity': 'Caucasian', 'gender'...</td>\n",
       "      <td>{'id': '940', 'otu_ids': [1167, 2859, 482, 226...</td>\n",
       "    </tr>\n",
       "    <tr>\n",
       "      <th>1</th>\n",
       "      <td>941</td>\n",
       "      <td>{'id': 941, 'ethnicity': 'Caucasian/Midleaster...</td>\n",
       "      <td>{'id': '941', 'otu_ids': [2722, 944, 2419, 253...</td>\n",
       "    </tr>\n",
       "    <tr>\n",
       "      <th>2</th>\n",
       "      <td>943</td>\n",
       "      <td>{'id': 943, 'ethnicity': 'Caucasian', 'gender'...</td>\n",
       "      <td>{'id': '943', 'otu_ids': [1795], 'sample_value...</td>\n",
       "    </tr>\n",
       "    <tr>\n",
       "      <th>3</th>\n",
       "      <td>944</td>\n",
       "      <td>{'id': 944, 'ethnicity': 'European', 'gender':...</td>\n",
       "      <td>{'id': '944', 'otu_ids': [922, 3555, 943, 1013...</td>\n",
       "    </tr>\n",
       "    <tr>\n",
       "      <th>4</th>\n",
       "      <td>945</td>\n",
       "      <td>{'id': 945, 'ethnicity': 'Caucasian', 'gender'...</td>\n",
       "      <td>{'id': '945', 'otu_ids': [944, 1795, 922, 2419...</td>\n",
       "    </tr>\n",
       "  </tbody>\n",
       "</table>\n",
       "</div>"
      ],
      "text/plain": [
       "  names                                           metadata  \\\n",
       "0   940  {'id': 940, 'ethnicity': 'Caucasian', 'gender'...   \n",
       "1   941  {'id': 941, 'ethnicity': 'Caucasian/Midleaster...   \n",
       "2   943  {'id': 943, 'ethnicity': 'Caucasian', 'gender'...   \n",
       "3   944  {'id': 944, 'ethnicity': 'European', 'gender':...   \n",
       "4   945  {'id': 945, 'ethnicity': 'Caucasian', 'gender'...   \n",
       "\n",
       "                                             samples  \n",
       "0  {'id': '940', 'otu_ids': [1167, 2859, 482, 226...  \n",
       "1  {'id': '941', 'otu_ids': [2722, 944, 2419, 253...  \n",
       "2  {'id': '943', 'otu_ids': [1795], 'sample_value...  \n",
       "3  {'id': '944', 'otu_ids': [922, 3555, 943, 1013...  \n",
       "4  {'id': '945', 'otu_ids': [944, 1795, 922, 2419...  "
      ]
     },
     "execution_count": 3,
     "metadata": {},
     "output_type": "execute_result"
    }
   ],
   "source": [
    "df.head()"
   ]
  },
  {
   "cell_type": "code",
   "execution_count": 4,
   "id": "6507b91e",
   "metadata": {},
   "outputs": [
    {
     "data": {
      "text/plain": [
       "dict_keys(['id', 'ethnicity', 'gender', 'age', 'location', 'bbtype', 'wfreq'])"
      ]
     },
     "execution_count": 4,
     "metadata": {},
     "output_type": "execute_result"
    }
   ],
   "source": [
    "df.iloc[1][\"metadata\"].keys()"
   ]
  },
  {
   "cell_type": "code",
   "execution_count": 5,
   "id": "c9481cf7",
   "metadata": {},
   "outputs": [
    {
     "data": {
      "text/plain": [
       "dict_keys(['id', 'otu_ids', 'sample_values', 'otu_labels'])"
      ]
     },
     "execution_count": 5,
     "metadata": {},
     "output_type": "execute_result"
    }
   ],
   "source": [
    "df.iloc[1][\"samples\"].keys()"
   ]
  },
  {
   "cell_type": "code",
   "execution_count": 14,
   "id": "c9183c3c",
   "metadata": {},
   "outputs": [],
   "source": [
    "samples_data = list(df[\"samples\"])\n",
    "samples_df = pd.DataFrame.from_dict(samples_data)"
   ]
  },
  {
   "cell_type": "code",
   "execution_count": 15,
   "id": "0712f2ba",
   "metadata": {},
   "outputs": [
    {
     "data": {
      "text/html": [
       "<div>\n",
       "<style scoped>\n",
       "    .dataframe tbody tr th:only-of-type {\n",
       "        vertical-align: middle;\n",
       "    }\n",
       "\n",
       "    .dataframe tbody tr th {\n",
       "        vertical-align: top;\n",
       "    }\n",
       "\n",
       "    .dataframe thead th {\n",
       "        text-align: right;\n",
       "    }\n",
       "</style>\n",
       "<table border=\"1\" class=\"dataframe\">\n",
       "  <thead>\n",
       "    <tr style=\"text-align: right;\">\n",
       "      <th></th>\n",
       "      <th>id</th>\n",
       "      <th>otu_ids</th>\n",
       "      <th>sample_values</th>\n",
       "      <th>otu_labels</th>\n",
       "    </tr>\n",
       "  </thead>\n",
       "  <tbody>\n",
       "    <tr>\n",
       "      <th>0</th>\n",
       "      <td>940</td>\n",
       "      <td>[1167, 2859, 482, 2264, 41, 1189, 352, 189, 23...</td>\n",
       "      <td>[163, 126, 113, 78, 71, 51, 50, 47, 40, 40, 37...</td>\n",
       "      <td>[Bacteria;Bacteroidetes;Bacteroidia;Bacteroida...</td>\n",
       "    </tr>\n",
       "    <tr>\n",
       "      <th>1</th>\n",
       "      <td>941</td>\n",
       "      <td>[2722, 944, 2419, 2539, 3450, 1795, 2389, 1314...</td>\n",
       "      <td>[194, 178, 162, 92, 84, 40, 37, 28, 27, 24, 21...</td>\n",
       "      <td>[Bacteria;Firmicutes;Clostridia;Clostridiales;...</td>\n",
       "    </tr>\n",
       "    <tr>\n",
       "      <th>2</th>\n",
       "      <td>943</td>\n",
       "      <td>[1795]</td>\n",
       "      <td>[2]</td>\n",
       "      <td>[Bacteria;Firmicutes;Bacilli;Bacillales;Staphy...</td>\n",
       "    </tr>\n",
       "    <tr>\n",
       "      <th>3</th>\n",
       "      <td>944</td>\n",
       "      <td>[922, 3555, 943, 1013, 1795, 944, 3368, 923, 1...</td>\n",
       "      <td>[278, 33, 19, 18, 11, 8, 7, 5, 5, 5, 4, 4, 4, ...</td>\n",
       "      <td>[Bacteria;Actinobacteria;Actinobacteria;Actino...</td>\n",
       "    </tr>\n",
       "    <tr>\n",
       "      <th>4</th>\n",
       "      <td>945</td>\n",
       "      <td>[944, 1795, 922, 2419, 2859, 943, 2722, 1167, ...</td>\n",
       "      <td>[274, 141, 129, 110, 40, 37, 35, 32, 26, 20, 1...</td>\n",
       "      <td>[Bacteria;Actinobacteria;Actinobacteria;Actino...</td>\n",
       "    </tr>\n",
       "  </tbody>\n",
       "</table>\n",
       "</div>"
      ],
      "text/plain": [
       "    id                                            otu_ids  \\\n",
       "0  940  [1167, 2859, 482, 2264, 41, 1189, 352, 189, 23...   \n",
       "1  941  [2722, 944, 2419, 2539, 3450, 1795, 2389, 1314...   \n",
       "2  943                                             [1795]   \n",
       "3  944  [922, 3555, 943, 1013, 1795, 944, 3368, 923, 1...   \n",
       "4  945  [944, 1795, 922, 2419, 2859, 943, 2722, 1167, ...   \n",
       "\n",
       "                                       sample_values  \\\n",
       "0  [163, 126, 113, 78, 71, 51, 50, 47, 40, 40, 37...   \n",
       "1  [194, 178, 162, 92, 84, 40, 37, 28, 27, 24, 21...   \n",
       "2                                                [2]   \n",
       "3  [278, 33, 19, 18, 11, 8, 7, 5, 5, 5, 4, 4, 4, ...   \n",
       "4  [274, 141, 129, 110, 40, 37, 35, 32, 26, 20, 1...   \n",
       "\n",
       "                                          otu_labels  \n",
       "0  [Bacteria;Bacteroidetes;Bacteroidia;Bacteroida...  \n",
       "1  [Bacteria;Firmicutes;Clostridia;Clostridiales;...  \n",
       "2  [Bacteria;Firmicutes;Bacilli;Bacillales;Staphy...  \n",
       "3  [Bacteria;Actinobacteria;Actinobacteria;Actino...  \n",
       "4  [Bacteria;Actinobacteria;Actinobacteria;Actino...  "
      ]
     },
     "execution_count": 15,
     "metadata": {},
     "output_type": "execute_result"
    }
   ],
   "source": [
    "samples_df.head()"
   ]
  },
  {
   "cell_type": "code",
   "execution_count": 6,
   "id": "df331b0f",
   "metadata": {},
   "outputs": [],
   "source": [
    "#filepath = Path('/Users/isabelsmorrison/Personal/Data_Analytics_Bootcamp/Weekly_Assignments/Homework_14/Belly-Button-Challenge/samples.csv')  \n",
    "#df.to_csv(filepath)"
   ]
  }
 ],
 "metadata": {
  "kernelspec": {
   "display_name": "Python 3 (ipykernel)",
   "language": "python",
   "name": "python3"
  },
  "language_info": {
   "codemirror_mode": {
    "name": "ipython",
    "version": 3
   },
   "file_extension": ".py",
   "mimetype": "text/x-python",
   "name": "python",
   "nbconvert_exporter": "python",
   "pygments_lexer": "ipython3",
   "version": "3.11.3"
  }
 },
 "nbformat": 4,
 "nbformat_minor": 5
}
